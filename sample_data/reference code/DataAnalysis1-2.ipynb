{
 "cells": [
  {
   "cell_type": "code",
   "execution_count": 1,
   "metadata": {},
   "outputs": [],
   "source": [
    "#Ayse Dogan - DataAnalysis1"
   ]
  },
  {
   "cell_type": "code",
   "execution_count": 6,
   "metadata": {},
   "outputs": [],
   "source": [
    "import pandas as pd\n",
    "import numpy as np\n",
    "import matplotlib.mlab as mlab\n",
    "import matplotlib.pyplot as plt\n",
    "from sklearn.impute import KNNImputer"
   ]
  },
  {
   "cell_type": "code",
   "execution_count": 3,
   "metadata": {},
   "outputs": [],
   "source": [
    "#For later\n",
    "#imputer = KNNImputer(n_neighbors=2)\n"
   ]
  },
  {
   "cell_type": "code",
   "execution_count": 7,
   "metadata": {},
   "outputs": [
    {
     "ename": "FileNotFoundError",
     "evalue": "[Errno 2] No such file or directory: 'record-219360.csv'",
     "output_type": "error",
     "traceback": [
      "\u001b[1;31m---------------------------------------------------------------------------\u001b[0m",
      "\u001b[1;31mFileNotFoundError\u001b[0m                         Traceback (most recent call last)",
      "\u001b[1;32m<ipython-input-7-87f4c6fe9231>\u001b[0m in \u001b[0;36m<module>\u001b[1;34m\u001b[0m\n\u001b[1;32m----> 1\u001b[1;33m \u001b[0mdf1\u001b[0m \u001b[1;33m=\u001b[0m \u001b[0mpd\u001b[0m\u001b[1;33m.\u001b[0m\u001b[0mread_csv\u001b[0m\u001b[1;33m(\u001b[0m\u001b[1;34m\"record-219360.csv\"\u001b[0m\u001b[1;33m)\u001b[0m\u001b[1;33m\u001b[0m\u001b[1;33m\u001b[0m\u001b[0m\n\u001b[0m\u001b[0;32m      2\u001b[0m \u001b[0mdf2\u001b[0m \u001b[1;33m=\u001b[0m \u001b[0mpd\u001b[0m\u001b[1;33m.\u001b[0m\u001b[0mread_csv\u001b[0m\u001b[1;33m(\u001b[0m\u001b[1;34m\"record-219464.csv\"\u001b[0m\u001b[1;33m)\u001b[0m\u001b[1;33m\u001b[0m\u001b[1;33m\u001b[0m\u001b[0m\n\u001b[0;32m      3\u001b[0m \u001b[0mdf3\u001b[0m \u001b[1;33m=\u001b[0m \u001b[0mpd\u001b[0m\u001b[1;33m.\u001b[0m\u001b[0mread_csv\u001b[0m\u001b[1;33m(\u001b[0m\u001b[1;34m\"record-219593.csv\"\u001b[0m\u001b[1;33m)\u001b[0m\u001b[1;33m\u001b[0m\u001b[1;33m\u001b[0m\u001b[0m\n\u001b[0;32m      4\u001b[0m \u001b[0mdf4\u001b[0m \u001b[1;33m=\u001b[0m \u001b[0mpd\u001b[0m\u001b[1;33m.\u001b[0m\u001b[0mread_csv\u001b[0m\u001b[1;33m(\u001b[0m\u001b[1;34m\"record-219625.csv\"\u001b[0m\u001b[1;33m)\u001b[0m\u001b[1;33m\u001b[0m\u001b[1;33m\u001b[0m\u001b[0m\n\u001b[0;32m      5\u001b[0m \u001b[0mdf5\u001b[0m \u001b[1;33m=\u001b[0m \u001b[0mpd\u001b[0m\u001b[1;33m.\u001b[0m\u001b[0mread_csv\u001b[0m\u001b[1;33m(\u001b[0m\u001b[1;34m\"record-219673.csv\"\u001b[0m\u001b[1;33m)\u001b[0m\u001b[1;33m\u001b[0m\u001b[1;33m\u001b[0m\u001b[0m\n",
      "\u001b[1;32m~\\Anaconda3\\lib\\site-packages\\pandas\\io\\parsers.py\u001b[0m in \u001b[0;36mread_csv\u001b[1;34m(filepath_or_buffer, sep, delimiter, header, names, index_col, usecols, squeeze, prefix, mangle_dupe_cols, dtype, engine, converters, true_values, false_values, skipinitialspace, skiprows, skipfooter, nrows, na_values, keep_default_na, na_filter, verbose, skip_blank_lines, parse_dates, infer_datetime_format, keep_date_col, date_parser, dayfirst, cache_dates, iterator, chunksize, compression, thousands, decimal, lineterminator, quotechar, quoting, doublequote, escapechar, comment, encoding, dialect, error_bad_lines, warn_bad_lines, delim_whitespace, low_memory, memory_map, float_precision, storage_options)\u001b[0m\n\u001b[0;32m    608\u001b[0m     \u001b[0mkwds\u001b[0m\u001b[1;33m.\u001b[0m\u001b[0mupdate\u001b[0m\u001b[1;33m(\u001b[0m\u001b[0mkwds_defaults\u001b[0m\u001b[1;33m)\u001b[0m\u001b[1;33m\u001b[0m\u001b[1;33m\u001b[0m\u001b[0m\n\u001b[0;32m    609\u001b[0m \u001b[1;33m\u001b[0m\u001b[0m\n\u001b[1;32m--> 610\u001b[1;33m     \u001b[1;32mreturn\u001b[0m \u001b[0m_read\u001b[0m\u001b[1;33m(\u001b[0m\u001b[0mfilepath_or_buffer\u001b[0m\u001b[1;33m,\u001b[0m \u001b[0mkwds\u001b[0m\u001b[1;33m)\u001b[0m\u001b[1;33m\u001b[0m\u001b[1;33m\u001b[0m\u001b[0m\n\u001b[0m\u001b[0;32m    611\u001b[0m \u001b[1;33m\u001b[0m\u001b[0m\n\u001b[0;32m    612\u001b[0m \u001b[1;33m\u001b[0m\u001b[0m\n",
      "\u001b[1;32m~\\Anaconda3\\lib\\site-packages\\pandas\\io\\parsers.py\u001b[0m in \u001b[0;36m_read\u001b[1;34m(filepath_or_buffer, kwds)\u001b[0m\n\u001b[0;32m    460\u001b[0m \u001b[1;33m\u001b[0m\u001b[0m\n\u001b[0;32m    461\u001b[0m     \u001b[1;31m# Create the parser.\u001b[0m\u001b[1;33m\u001b[0m\u001b[1;33m\u001b[0m\u001b[1;33m\u001b[0m\u001b[0m\n\u001b[1;32m--> 462\u001b[1;33m     \u001b[0mparser\u001b[0m \u001b[1;33m=\u001b[0m \u001b[0mTextFileReader\u001b[0m\u001b[1;33m(\u001b[0m\u001b[0mfilepath_or_buffer\u001b[0m\u001b[1;33m,\u001b[0m \u001b[1;33m**\u001b[0m\u001b[0mkwds\u001b[0m\u001b[1;33m)\u001b[0m\u001b[1;33m\u001b[0m\u001b[1;33m\u001b[0m\u001b[0m\n\u001b[0m\u001b[0;32m    463\u001b[0m \u001b[1;33m\u001b[0m\u001b[0m\n\u001b[0;32m    464\u001b[0m     \u001b[1;32mif\u001b[0m \u001b[0mchunksize\u001b[0m \u001b[1;32mor\u001b[0m \u001b[0miterator\u001b[0m\u001b[1;33m:\u001b[0m\u001b[1;33m\u001b[0m\u001b[1;33m\u001b[0m\u001b[0m\n",
      "\u001b[1;32m~\\Anaconda3\\lib\\site-packages\\pandas\\io\\parsers.py\u001b[0m in \u001b[0;36m__init__\u001b[1;34m(self, f, engine, **kwds)\u001b[0m\n\u001b[0;32m    817\u001b[0m             \u001b[0mself\u001b[0m\u001b[1;33m.\u001b[0m\u001b[0moptions\u001b[0m\u001b[1;33m[\u001b[0m\u001b[1;34m\"has_index_names\"\u001b[0m\u001b[1;33m]\u001b[0m \u001b[1;33m=\u001b[0m \u001b[0mkwds\u001b[0m\u001b[1;33m[\u001b[0m\u001b[1;34m\"has_index_names\"\u001b[0m\u001b[1;33m]\u001b[0m\u001b[1;33m\u001b[0m\u001b[1;33m\u001b[0m\u001b[0m\n\u001b[0;32m    818\u001b[0m \u001b[1;33m\u001b[0m\u001b[0m\n\u001b[1;32m--> 819\u001b[1;33m         \u001b[0mself\u001b[0m\u001b[1;33m.\u001b[0m\u001b[0m_engine\u001b[0m \u001b[1;33m=\u001b[0m \u001b[0mself\u001b[0m\u001b[1;33m.\u001b[0m\u001b[0m_make_engine\u001b[0m\u001b[1;33m(\u001b[0m\u001b[0mself\u001b[0m\u001b[1;33m.\u001b[0m\u001b[0mengine\u001b[0m\u001b[1;33m)\u001b[0m\u001b[1;33m\u001b[0m\u001b[1;33m\u001b[0m\u001b[0m\n\u001b[0m\u001b[0;32m    820\u001b[0m \u001b[1;33m\u001b[0m\u001b[0m\n\u001b[0;32m    821\u001b[0m     \u001b[1;32mdef\u001b[0m \u001b[0mclose\u001b[0m\u001b[1;33m(\u001b[0m\u001b[0mself\u001b[0m\u001b[1;33m)\u001b[0m\u001b[1;33m:\u001b[0m\u001b[1;33m\u001b[0m\u001b[1;33m\u001b[0m\u001b[0m\n",
      "\u001b[1;32m~\\Anaconda3\\lib\\site-packages\\pandas\\io\\parsers.py\u001b[0m in \u001b[0;36m_make_engine\u001b[1;34m(self, engine)\u001b[0m\n\u001b[0;32m   1048\u001b[0m             )\n\u001b[0;32m   1049\u001b[0m         \u001b[1;31m# error: Too many arguments for \"ParserBase\"\u001b[0m\u001b[1;33m\u001b[0m\u001b[1;33m\u001b[0m\u001b[1;33m\u001b[0m\u001b[0m\n\u001b[1;32m-> 1050\u001b[1;33m         \u001b[1;32mreturn\u001b[0m \u001b[0mmapping\u001b[0m\u001b[1;33m[\u001b[0m\u001b[0mengine\u001b[0m\u001b[1;33m]\u001b[0m\u001b[1;33m(\u001b[0m\u001b[0mself\u001b[0m\u001b[1;33m.\u001b[0m\u001b[0mf\u001b[0m\u001b[1;33m,\u001b[0m \u001b[1;33m**\u001b[0m\u001b[0mself\u001b[0m\u001b[1;33m.\u001b[0m\u001b[0moptions\u001b[0m\u001b[1;33m)\u001b[0m  \u001b[1;31m# type: ignore[call-arg]\u001b[0m\u001b[1;33m\u001b[0m\u001b[1;33m\u001b[0m\u001b[0m\n\u001b[0m\u001b[0;32m   1051\u001b[0m \u001b[1;33m\u001b[0m\u001b[0m\n\u001b[0;32m   1052\u001b[0m     \u001b[1;32mdef\u001b[0m \u001b[0m_failover_to_python\u001b[0m\u001b[1;33m(\u001b[0m\u001b[0mself\u001b[0m\u001b[1;33m)\u001b[0m\u001b[1;33m:\u001b[0m\u001b[1;33m\u001b[0m\u001b[1;33m\u001b[0m\u001b[0m\n",
      "\u001b[1;32m~\\Anaconda3\\lib\\site-packages\\pandas\\io\\parsers.py\u001b[0m in \u001b[0;36m__init__\u001b[1;34m(self, src, **kwds)\u001b[0m\n\u001b[0;32m   1865\u001b[0m \u001b[1;33m\u001b[0m\u001b[0m\n\u001b[0;32m   1866\u001b[0m         \u001b[1;31m# open handles\u001b[0m\u001b[1;33m\u001b[0m\u001b[1;33m\u001b[0m\u001b[1;33m\u001b[0m\u001b[0m\n\u001b[1;32m-> 1867\u001b[1;33m         \u001b[0mself\u001b[0m\u001b[1;33m.\u001b[0m\u001b[0m_open_handles\u001b[0m\u001b[1;33m(\u001b[0m\u001b[0msrc\u001b[0m\u001b[1;33m,\u001b[0m \u001b[0mkwds\u001b[0m\u001b[1;33m)\u001b[0m\u001b[1;33m\u001b[0m\u001b[1;33m\u001b[0m\u001b[0m\n\u001b[0m\u001b[0;32m   1868\u001b[0m         \u001b[1;32massert\u001b[0m \u001b[0mself\u001b[0m\u001b[1;33m.\u001b[0m\u001b[0mhandles\u001b[0m \u001b[1;32mis\u001b[0m \u001b[1;32mnot\u001b[0m \u001b[1;32mNone\u001b[0m\u001b[1;33m\u001b[0m\u001b[1;33m\u001b[0m\u001b[0m\n\u001b[0;32m   1869\u001b[0m         \u001b[1;32mfor\u001b[0m \u001b[0mkey\u001b[0m \u001b[1;32min\u001b[0m \u001b[1;33m(\u001b[0m\u001b[1;34m\"storage_options\"\u001b[0m\u001b[1;33m,\u001b[0m \u001b[1;34m\"encoding\"\u001b[0m\u001b[1;33m,\u001b[0m \u001b[1;34m\"memory_map\"\u001b[0m\u001b[1;33m,\u001b[0m \u001b[1;34m\"compression\"\u001b[0m\u001b[1;33m)\u001b[0m\u001b[1;33m:\u001b[0m\u001b[1;33m\u001b[0m\u001b[1;33m\u001b[0m\u001b[0m\n",
      "\u001b[1;32m~\\Anaconda3\\lib\\site-packages\\pandas\\io\\parsers.py\u001b[0m in \u001b[0;36m_open_handles\u001b[1;34m(self, src, kwds)\u001b[0m\n\u001b[0;32m   1366\u001b[0m             \u001b[0mcompression\u001b[0m\u001b[1;33m=\u001b[0m\u001b[0mkwds\u001b[0m\u001b[1;33m.\u001b[0m\u001b[0mget\u001b[0m\u001b[1;33m(\u001b[0m\u001b[1;34m\"compression\"\u001b[0m\u001b[1;33m,\u001b[0m \u001b[1;32mNone\u001b[0m\u001b[1;33m)\u001b[0m\u001b[1;33m,\u001b[0m\u001b[1;33m\u001b[0m\u001b[1;33m\u001b[0m\u001b[0m\n\u001b[0;32m   1367\u001b[0m             \u001b[0mmemory_map\u001b[0m\u001b[1;33m=\u001b[0m\u001b[0mkwds\u001b[0m\u001b[1;33m.\u001b[0m\u001b[0mget\u001b[0m\u001b[1;33m(\u001b[0m\u001b[1;34m\"memory_map\"\u001b[0m\u001b[1;33m,\u001b[0m \u001b[1;32mFalse\u001b[0m\u001b[1;33m)\u001b[0m\u001b[1;33m,\u001b[0m\u001b[1;33m\u001b[0m\u001b[1;33m\u001b[0m\u001b[0m\n\u001b[1;32m-> 1368\u001b[1;33m             \u001b[0mstorage_options\u001b[0m\u001b[1;33m=\u001b[0m\u001b[0mkwds\u001b[0m\u001b[1;33m.\u001b[0m\u001b[0mget\u001b[0m\u001b[1;33m(\u001b[0m\u001b[1;34m\"storage_options\"\u001b[0m\u001b[1;33m,\u001b[0m \u001b[1;32mNone\u001b[0m\u001b[1;33m)\u001b[0m\u001b[1;33m,\u001b[0m\u001b[1;33m\u001b[0m\u001b[1;33m\u001b[0m\u001b[0m\n\u001b[0m\u001b[0;32m   1369\u001b[0m         )\n\u001b[0;32m   1370\u001b[0m \u001b[1;33m\u001b[0m\u001b[0m\n",
      "\u001b[1;32m~\\Anaconda3\\lib\\site-packages\\pandas\\io\\common.py\u001b[0m in \u001b[0;36mget_handle\u001b[1;34m(path_or_buf, mode, encoding, compression, memory_map, is_text, errors, storage_options)\u001b[0m\n\u001b[0;32m    645\u001b[0m                 \u001b[0mencoding\u001b[0m\u001b[1;33m=\u001b[0m\u001b[0mioargs\u001b[0m\u001b[1;33m.\u001b[0m\u001b[0mencoding\u001b[0m\u001b[1;33m,\u001b[0m\u001b[1;33m\u001b[0m\u001b[1;33m\u001b[0m\u001b[0m\n\u001b[0;32m    646\u001b[0m                 \u001b[0merrors\u001b[0m\u001b[1;33m=\u001b[0m\u001b[0merrors\u001b[0m\u001b[1;33m,\u001b[0m\u001b[1;33m\u001b[0m\u001b[1;33m\u001b[0m\u001b[0m\n\u001b[1;32m--> 647\u001b[1;33m                 \u001b[0mnewline\u001b[0m\u001b[1;33m=\u001b[0m\u001b[1;34m\"\"\u001b[0m\u001b[1;33m,\u001b[0m\u001b[1;33m\u001b[0m\u001b[1;33m\u001b[0m\u001b[0m\n\u001b[0m\u001b[0;32m    648\u001b[0m             )\n\u001b[0;32m    649\u001b[0m         \u001b[1;32melse\u001b[0m\u001b[1;33m:\u001b[0m\u001b[1;33m\u001b[0m\u001b[1;33m\u001b[0m\u001b[0m\n",
      "\u001b[1;31mFileNotFoundError\u001b[0m: [Errno 2] No such file or directory: 'record-219360.csv'"
     ]
    }
   ],
   "source": [
    "df1 = pd.read_csv(\"record-219360.csv\")\n",
    "df2 = pd.read_csv(\"record-219464.csv\")\n",
    "df3 = pd.read_csv(\"record-219593.csv\")\n",
    "df4 = pd.read_csv(\"record-219625.csv\")\n",
    "df5 = pd.read_csv(\"record-219673.csv\")\n",
    "df6 = pd.read_csv(\"record-219674.csv\")\n",
    "df7 = pd.read_csv(\"record-219986.csv\")\n",
    "df8 = pd.read_csv(\"record-219988.csv\")\n",
    "df9 = pd.read_csv(\"record-220578.csv\")\n",
    "df10 = pd.read_csv(\"record-220984.csv\")\n",
    "df11 = pd.read_csv(\"record-220987.csv\")\n",
    "df12 = pd.read_csv(\"record-221173.csv\")\n",
    "\n",
    "df1"
   ]
  },
  {
   "cell_type": "code",
   "execution_count": null,
   "metadata": {},
   "outputs": [],
   "source": [
    "#imputer.fit_transform(df1)\n"
   ]
  },
  {
   "cell_type": "markdown",
   "metadata": {},
   "source": [
    "Missing Value situation in the variables. \n",
    "(Sleeping position might be staying same!!!)"
   ]
  },
  {
   "cell_type": "code",
   "execution_count": null,
   "metadata": {},
   "outputs": [],
   "source": [
    "pd.DataFrame([df1.isnull().sum(),df2.isnull().sum(),df3.isnull().sum(),df4.isnull().sum(),df5.isnull().sum(),df6.isnull().sum(),df7.isnull().sum(),df8.isnull().sum(),df9.isnull().sum(),df10.isnull().sum(),df11.isnull().sum(),df12.isnull().sum()]).T"
   ]
  },
  {
   "cell_type": "markdown",
   "metadata": {},
   "source": [
    "There are 7 features on the data:"
   ]
  },
  {
   "cell_type": "code",
   "execution_count": null,
   "metadata": {},
   "outputs": [],
   "source": [
    "df1.columns"
   ]
  },
  {
   "cell_type": "markdown",
   "metadata": {},
   "source": [
    "Variables are compared based on their counts, means,std, min and max on different data files:  "
   ]
  },
  {
   "cell_type": "markdown",
   "metadata": {},
   "source": [
    "Variable 1: breathing_rate [rpm](/api/datatype/33/)"
   ]
  },
  {
   "cell_type": "code",
   "execution_count": null,
   "metadata": {
    "scrolled": true
   },
   "outputs": [],
   "source": [
    "y = 1\n",
    "var1 =pd.DataFrame([df1.iloc[:,y].describe(),df2.iloc[:,y].describe(),df3.iloc[:,y].describe(),df4.iloc[:,y].describe(),df5.iloc[:,y].describe(),df6.iloc[:,y].describe(),df7.iloc[:,y].describe(),df8.iloc[:,y].describe(),df9.iloc[:,y].describe(),df10.iloc[:,y].describe(),df11.iloc[:,y].describe(),df12.iloc[:,y].describe() ])\n",
    "var1"
   ]
  },
  {
   "cell_type": "code",
   "execution_count": null,
   "metadata": {},
   "outputs": [],
   "source": [
    "\n",
    "import matplotlib.pyplot as plt\n",
    "import numpy as np\n",
    "\n",
    "data =[df1.iloc[:,y].dropna(),df2.iloc[:,y].dropna(),df3.iloc[:,y].dropna(),df4.iloc[:,y].dropna(),df5.iloc[:,y].dropna(),df6.iloc[:,y].dropna(),df7.iloc[:,y].dropna(),df8.iloc[:,y].dropna(),df9.iloc[:,y].dropna(),df10.iloc[:,y].dropna(),df11.iloc[:,y].dropna(),df12.iloc[:,y].dropna()]\n",
    "fig = plt.figure(figsize =(10, 7))\n",
    " \n",
    "# Creating axes instance\n",
    "ax = fig.add_axes([0, 0, 1, 1])\n",
    " \n",
    "# Creating plot\n",
    "bp = ax.boxplot(data)\n",
    "\n",
    "#Credientials\n",
    "plt.title(df1.columns[y]+'vs.'+df1.columns[0],fontsize = 25)\n",
    "plt.ylabel('data distribution',fontsize = 20)\n",
    "plt.xlabel('data files',fontsize = 20)\n",
    "plt.show\n",
    "# show plot\n",
    "plt.show()"
   ]
  },
  {
   "cell_type": "markdown",
   "metadata": {},
   "source": [
    "Variable 2: minute_ventilation [mL/min](/api/datatype/36/)"
   ]
  },
  {
   "cell_type": "code",
   "execution_count": null,
   "metadata": {},
   "outputs": [],
   "source": [
    "y = 2\n",
    "var2 =pd.DataFrame([df1.iloc[:,y].describe(),df2.iloc[:,y].describe(),df3.iloc[:,y].describe(),df4.iloc[:,y].describe(),df5.iloc[:,y].describe(),df6.iloc[:,y].describe(),df7.iloc[:,y].describe(),df8.iloc[:,y].describe(),df9.iloc[:,y].describe(),df10.iloc[:,y].describe(),df11.iloc[:,y].describe(),df12.iloc[:,y].describe() ])\n",
    "var2"
   ]
  },
  {
   "cell_type": "code",
   "execution_count": null,
   "metadata": {},
   "outputs": [],
   "source": [
    "\n",
    "import matplotlib.pyplot as plt\n",
    "import numpy as np\n",
    "\n",
    "data =[df1.iloc[:,y].dropna(),df2.iloc[:,y].dropna(),df3.iloc[:,y].dropna(),df4.iloc[:,y].dropna(),df5.iloc[:,y].dropna(),df6.iloc[:,y].dropna(),df7.iloc[:,y].dropna(),df8.iloc[:,y].dropna(),df9.iloc[:,y].dropna(),df10.iloc[:,y].dropna(),df11.iloc[:,y].dropna(),df12.iloc[:,y].dropna()]\n",
    "fig = plt.figure(figsize =(10, 7))\n",
    " \n",
    "# Creating axes instance\n",
    "ax = fig.add_axes([0, 0, 1, 1])\n",
    " \n",
    "# Creating plot\n",
    "bp = ax.boxplot(data)\n",
    "\n",
    "#Credientials\n",
    "plt.title(df1.columns[y]+'vs.'+df1.columns[0],fontsize = 25)\n",
    "plt.ylabel('data distribution',fontsize = 20)\n",
    "plt.xlabel('data files',fontsize = 20)\n",
    "plt.show\n",
    "# show plot\n",
    "plt.show()"
   ]
  },
  {
   "cell_type": "markdown",
   "metadata": {},
   "source": [
    "Variable 3: sleep_position [NA](/api/datatype/270/)"
   ]
  },
  {
   "cell_type": "code",
   "execution_count": null,
   "metadata": {},
   "outputs": [],
   "source": [
    "y = 3\n",
    "var3 =pd.DataFrame([df1.iloc[:,y].describe(),df2.iloc[:,y].describe(),df3.iloc[:,y].describe(),df4.iloc[:,y].describe(),df5.iloc[:,y].describe(),df6.iloc[:,y].describe(),df7.iloc[:,y].describe(),df8.iloc[:,y].describe(),df9.iloc[:,y].describe(),df10.iloc[:,y].describe(),df11.iloc[:,y].describe(),df12.iloc[:,y].describe() ])\n",
    "var3"
   ]
  },
  {
   "cell_type": "code",
   "execution_count": null,
   "metadata": {},
   "outputs": [],
   "source": [
    "\n",
    "import matplotlib.pyplot as plt\n",
    "import numpy as np\n",
    "\n",
    "data =[df1.iloc[:,y].dropna(),df2.iloc[:,y].dropna(),df3.iloc[:,y].dropna(),df4.iloc[:,y].dropna(),df5.iloc[:,y].dropna(),df6.iloc[:,y].dropna(),df7.iloc[:,y].dropna(),df8.iloc[:,y].dropna(),df9.iloc[:,y].dropna(),df10.iloc[:,y].dropna(),df11.iloc[:,y].dropna(),df12.iloc[:,y].dropna()]\n",
    "fig = plt.figure(figsize =(10, 7))\n",
    " \n",
    "# Creating axes instance\n",
    "ax = fig.add_axes([0, 0, 1, 1])\n",
    " \n",
    "# Creating plot\n",
    "bp = ax.boxplot(data)\n",
    "\n",
    "#Credientials\n",
    "plt.title(df1.columns[y]+'vs.'+df1.columns[0],fontsize = 25)\n",
    "plt.ylabel('data distribution',fontsize = 20)\n",
    "plt.xlabel('data files',fontsize = 20)\n",
    "plt.show\n",
    "# show plot\n",
    "plt.show()"
   ]
  },
  {
   "cell_type": "markdown",
   "metadata": {},
   "source": [
    "Variable 4: activity [g](/api/datatype/49/)"
   ]
  },
  {
   "cell_type": "code",
   "execution_count": null,
   "metadata": {},
   "outputs": [],
   "source": [
    "y = 4\n",
    "var4 =pd.DataFrame([df1.iloc[:,y].describe(),df2.iloc[:,y].describe(),df3.iloc[:,y].describe(),df4.iloc[:,y].describe(),df5.iloc[:,y].describe(),df6.iloc[:,y].describe(),df7.iloc[:,y].describe(),df8.iloc[:,y].describe(),df9.iloc[:,y].describe(),df10.iloc[:,y].describe(),df11.iloc[:,y].describe(),df12.iloc[:,y].describe() ])\n",
    "var4"
   ]
  },
  {
   "cell_type": "code",
   "execution_count": null,
   "metadata": {},
   "outputs": [],
   "source": [
    "\n",
    "import matplotlib.pyplot as plt\n",
    "import numpy as np\n",
    "\n",
    "data =[df1.iloc[:,y].dropna(),df2.iloc[:,y].dropna(),df3.iloc[:,y].dropna(),df4.iloc[:,y].dropna(),df5.iloc[:,y].dropna(),df6.iloc[:,y].dropna(),df7.iloc[:,y].dropna(),df8.iloc[:,y].dropna(),df9.iloc[:,y].dropna(),df10.iloc[:,y].dropna(),df11.iloc[:,y].dropna(),df12.iloc[:,y].dropna()]\n",
    "fig = plt.figure(figsize =(10, 7))\n",
    " \n",
    "# Creating axes instance\n",
    "ax = fig.add_axes([0, 0, 1, 1])\n",
    " \n",
    "# Creating plot\n",
    "bp = ax.boxplot(data)\n",
    "\n",
    "#Credientials\n",
    "plt.title(df1.columns[y]+'vs.'+df1.columns[0],fontsize = 25)\n",
    "plt.ylabel('data distribution',fontsize = 20)\n",
    "plt.xlabel('data files',fontsize = 20)\n",
    "plt.show\n",
    "# show plot\n",
    "plt.show()"
   ]
  },
  {
   "cell_type": "markdown",
   "metadata": {},
   "source": [
    "Variable 5: heart_rate [bpm](/api/datatype/19/)"
   ]
  },
  {
   "cell_type": "code",
   "execution_count": null,
   "metadata": {},
   "outputs": [],
   "source": [
    "y = 5\n",
    "var5 =pd.DataFrame([df1.iloc[:,y].describe(),df2.iloc[:,y].describe(),df3.iloc[:,y].describe(),df4.iloc[:,y].describe(),df5.iloc[:,y].describe(),df6.iloc[:,y].describe(),df7.iloc[:,y].describe(),df8.iloc[:,y].describe(),df9.iloc[:,y].describe(),df10.iloc[:,y].describe(),df11.iloc[:,y].describe(),df12.iloc[:,y].describe() ])\n",
    "var5"
   ]
  },
  {
   "cell_type": "code",
   "execution_count": null,
   "metadata": {},
   "outputs": [],
   "source": [
    "\n",
    "import matplotlib.pyplot as plt\n",
    "import numpy as np\n",
    "\n",
    "data =[df1.iloc[:,y].dropna(),df2.iloc[:,y].dropna(),df3.iloc[:,y].dropna(),df4.iloc[:,y].dropna(),df5.iloc[:,y].dropna(),df6.iloc[:,y].dropna(),df7.iloc[:,y].dropna(),df8.iloc[:,y].dropna(),df9.iloc[:,y].dropna(),df10.iloc[:,y].dropna(),df11.iloc[:,y].dropna(),df12.iloc[:,y].dropna()]\n",
    "fig = plt.figure(figsize =(10, 7))\n",
    " \n",
    "# Creating axes instance\n",
    "ax = fig.add_axes([0, 0, 1, 1])\n",
    " \n",
    "# Creating plot\n",
    "bp = ax.boxplot(data)\n",
    "\n",
    "#Credientials\n",
    "plt.title(df1.columns[y]+'vs.'+df1.columns[0],fontsize = 25)\n",
    "plt.ylabel('data distribution',fontsize = 20)\n",
    "plt.xlabel('data files',fontsize = 20)\n",
    "plt.show\n",
    "# show plot\n",
    "plt.show()"
   ]
  },
  {
   "cell_type": "markdown",
   "metadata": {},
   "source": [
    "Variable 6: cadence [spm](/api/datatype/53/)"
   ]
  },
  {
   "cell_type": "code",
   "execution_count": null,
   "metadata": {},
   "outputs": [],
   "source": [
    "y = 6\n",
    "var6 =pd.DataFrame([df1.iloc[:,y].describe(),df2.iloc[:,y].describe(),df3.iloc[:,y].describe(),df4.iloc[:,y].describe(),df5.iloc[:,y].describe(),df6.iloc[:,y].describe(),df7.iloc[:,y].describe(),df8.iloc[:,y].describe(),df9.iloc[:,y].describe(),df10.iloc[:,y].describe(),df11.iloc[:,y].describe(),df12.iloc[:,y].describe() ])\n",
    "var6"
   ]
  },
  {
   "cell_type": "code",
   "execution_count": null,
   "metadata": {},
   "outputs": [],
   "source": [
    "\n",
    "import matplotlib.pyplot as plt\n",
    "import numpy as np\n",
    "\n",
    "data =[df1.iloc[:,y].dropna(),df2.iloc[:,y].dropna(),df3.iloc[:,y].dropna(),df4.iloc[:,y].dropna(),df5.iloc[:,y].dropna(),df6.iloc[:,y].dropna(),df7.iloc[:,y].dropna(),df8.iloc[:,y].dropna(),df9.iloc[:,y].dropna(),df10.iloc[:,y].dropna(),df11.iloc[:,y].dropna(),df12.iloc[:,y].dropna()]\n",
    "fig = plt.figure(figsize =(10, 7))\n",
    " \n",
    "# Creating axes instance\n",
    "ax = fig.add_axes([0, 0, 1, 1])\n",
    " \n",
    "# Creating plot\n",
    "bp = ax.boxplot(data)\n",
    "\n",
    "#Credientials\n",
    "plt.title(df1.columns[y]+'vs.'+df1.columns[0],fontsize = 25)\n",
    "plt.ylabel('data distribution',fontsize = 20)\n",
    "plt.xlabel('data files',fontsize = 20)\n",
    "plt.show\n",
    "# show plot\n",
    "plt.show()"
   ]
  },
  {
   "cell_type": "code",
   "execution_count": null,
   "metadata": {},
   "outputs": [],
   "source": [
    "df1.columns"
   ]
  },
  {
   "cell_type": "markdown",
   "metadata": {},
   "source": [
    "The change in time of activity, breath-rate and heart-rate with parallelly:"
   ]
  },
  {
   "cell_type": "code",
   "execution_count": null,
   "metadata": {},
   "outputs": [],
   "source": [
    "import matplotlib.pyplot as plt\n",
    "import numpy as np\n",
    "a = 1\n",
    "b = 4\n",
    "c = 5\n",
    "per =df1.copy()\n",
    "\n",
    "#data =[df1.iloc[:,y].dropna(),df2.iloc[:,y].dropna(),df3.iloc[:,y].dropna(),df4.iloc[:,y].dropna(),df5.iloc[:,y].dropna(),df6.iloc[:,y].dropna(),df7.iloc[:,y].dropna(),df8.iloc[:,y].dropna(),df9.iloc[:,y].dropna(),df10.iloc[:,y].dropna(),df11.iloc[:,y].dropna(),df12.iloc[:,y].dropna()]\n",
    "fig = plt.figure(figsize =(40, 7))\n",
    " \n",
    "# Creating axes instance\n",
    "ax = fig.add_axes([0, 0, 1, 1])\n",
    " \n",
    "# Creating plot\n",
    "br = ax.plot(per.iloc[:,0],per.iloc[:,a],'ro-',label = per.columns[a])\n",
    "ac = ax.plot(per.iloc[:,0],per.iloc[:,b],'b*-',label = per.columns[b])\n",
    "hr = ax.plot(per.iloc[:,0],per.iloc[:,c],'gv-',label = per.columns[c])\n",
    "\n",
    "ax.tick_params(axis='x', labelsize=30)\n",
    "ax.tick_params(axis='y', labelsize=30)\n",
    "#Credientials\n",
    "plt.title(per.columns[a]+'//'+per.columns[b]+'//'+per.columns[c],fontsize = 35)\n",
    "plt.ylabel(\"distribution\",fontsize = 30)\n",
    "plt.xlabel('time',fontsize = 30)\n",
    "ax.legend(fontsize = 30)\n",
    "plt.show()"
   ]
  },
  {
   "cell_type": "markdown",
   "metadata": {},
   "source": [
    "Since the effect is not clear, the data is normalized (Min - Max Normalization). "
   ]
  },
  {
   "cell_type": "code",
   "execution_count": null,
   "metadata": {},
   "outputs": [],
   "source": [
    "per =df1.copy()\n",
    "\n",
    "a = 1\n",
    "b = 4\n",
    "c = 5\n",
    "\n",
    "\n",
    "#data =[df1.iloc[:,y].dropna(),df2.iloc[:,y].dropna(),df3.iloc[:,y].dropna(),df4.iloc[:,y].dropna(),df5.iloc[:,y].dropna(),df6.iloc[:,y].dropna(),df7.iloc[:,y].dropna(),df8.iloc[:,y].dropna(),df9.iloc[:,y].dropna(),df10.iloc[:,y].dropna(),df11.iloc[:,y].dropna(),df12.iloc[:,y].dropna()]\n",
    "fig = plt.figure(figsize =(40, 7))\n",
    " \n",
    "# Creating axes instance\n",
    "ax = fig.add_axes([0, 0, 1, 1])\n",
    " \n",
    "# Creating plot\n",
    "br = ax.plot(per.iloc[:,0],per.iloc[:,a],'ro-',label = per.columns[a])\n",
    "ac = ax.plot(per.iloc[:,0],per.iloc[:,b],'b*-',label = per.columns[b])\n",
    "hr = ax.plot(per.iloc[:,0],per.iloc[:,c],'gv-',label = per.columns[c])\n",
    "ax.tick_params(axis='x', labelsize=30)\n",
    "ax.tick_params(axis='y', labelsize=30)\n",
    "#Credientials\n",
    "plt.title(per.columns[a]+'//'+per.columns[b]+'//'+per.columns[c],fontsize = 35)\n",
    "plt.ylabel(\"distribution\",fontsize = 30)\n",
    "plt.xlabel('time',fontsize = 30)\n",
    "ax.legend(fontsize = 30)\n",
    "plt.show()\n",
    "\n",
    "'''    '''\n",
    "normalized_df=(per-per.min())/(per.max()-per.min())\n",
    "a = 1\n",
    "b = 4\n",
    "c = 5\n",
    "per =normalized_df.copy()\n",
    "\n",
    "#data =[df1.iloc[:,y].dropna(),df2.iloc[:,y].dropna(),df3.iloc[:,y].dropna(),df4.iloc[:,y].dropna(),df5.iloc[:,y].dropna(),df6.iloc[:,y].dropna(),df7.iloc[:,y].dropna(),df8.iloc[:,y].dropna(),df9.iloc[:,y].dropna(),df10.iloc[:,y].dropna(),df11.iloc[:,y].dropna(),df12.iloc[:,y].dropna()]\n",
    "fig = plt.figure(figsize =(40, 7))\n",
    " \n",
    "# Creating axes instance\n",
    "ax = fig.add_axes([0, 0, 1, 1])\n",
    " \n",
    "# Creating plot\n",
    "br = ax.plot(per.iloc[:,0],per.iloc[:,a],'ro-',label = per.columns[a])\n",
    "ac = ax.plot(per.iloc[:,0],per.iloc[:,b],'b*-',label = per.columns[b])\n",
    "hr = ax.plot(per.iloc[:,0],per.iloc[:,c],'gv-',label = per.columns[c])\n",
    "\n",
    "ax.tick_params(axis='x', labelsize=30)\n",
    "ax.tick_params(axis='y', labelsize=30)\n",
    "#Credientials\n",
    "plt.title('Normalized: '+per.columns[a]+'//'+per.columns[b]+'//'+per.columns[c],fontsize = 35)\n",
    "plt.ylabel(\"distribution\",fontsize = 30)\n",
    "plt.xlabel('time',fontsize = 30)\n",
    "ax.legend(fontsize = 30)\n",
    "plt.show()"
   ]
  },
  {
   "cell_type": "code",
   "execution_count": null,
   "metadata": {},
   "outputs": [],
   "source": [
    "per =df2.copy()\n",
    "\n",
    "a = 1\n",
    "b = 4\n",
    "c = 5\n",
    "\n",
    "\n",
    "#data =[df1.iloc[:,y].dropna(),df2.iloc[:,y].dropna(),df3.iloc[:,y].dropna(),df4.iloc[:,y].dropna(),df5.iloc[:,y].dropna(),df6.iloc[:,y].dropna(),df7.iloc[:,y].dropna(),df8.iloc[:,y].dropna(),df9.iloc[:,y].dropna(),df10.iloc[:,y].dropna(),df11.iloc[:,y].dropna(),df12.iloc[:,y].dropna()]\n",
    "fig = plt.figure(figsize =(40, 7))\n",
    " \n",
    "# Creating axes instance\n",
    "ax = fig.add_axes([0, 0, 1, 1])\n",
    " \n",
    "# Creating plot\n",
    "br = ax.plot(per.iloc[:,0],per.iloc[:,a],'ro-',label = per.columns[a])\n",
    "ac = ax.plot(per.iloc[:,0],per.iloc[:,b],'b*-',label = per.columns[b])\n",
    "hr = ax.plot(per.iloc[:,0],per.iloc[:,c],'gv-',label = per.columns[c])\n",
    "\n",
    "ax.tick_params(axis='x', labelsize=30)\n",
    "ax.tick_params(axis='y', labelsize=30)\n",
    "#Credientials\n",
    "plt.title(per.columns[a]+'//'+per.columns[b]+'//'+per.columns[c],fontsize = 35)\n",
    "plt.ylabel(\"distribution\",fontsize = 30)\n",
    "plt.xlabel('time',fontsize = 30)\n",
    "ax.legend(fontsize = 30)\n",
    "plt.show()\n",
    "\n",
    "'''    '''\n",
    "normalized_df=(per-per.min())/(per.max()-per.min())\n",
    "a = 1\n",
    "b = 4\n",
    "c = 5\n",
    "per =normalized_df.copy()\n",
    "\n",
    "#data =[df1.iloc[:,y].dropna(),df2.iloc[:,y].dropna(),df3.iloc[:,y].dropna(),df4.iloc[:,y].dropna(),df5.iloc[:,y].dropna(),df6.iloc[:,y].dropna(),df7.iloc[:,y].dropna(),df8.iloc[:,y].dropna(),df9.iloc[:,y].dropna(),df10.iloc[:,y].dropna(),df11.iloc[:,y].dropna(),df12.iloc[:,y].dropna()]\n",
    "fig = plt.figure(figsize =(40, 7))\n",
    " \n",
    "# Creating axes instance\n",
    "ax = fig.add_axes([0, 0, 1, 1])\n",
    " \n",
    "# Creating plot\n",
    "br = ax.plot(per.iloc[:,0],per.iloc[:,a],'ro-',label = per.columns[a])\n",
    "ac = ax.plot(per.iloc[:,0],per.iloc[:,b],'b*-',label = per.columns[b])\n",
    "hr = ax.plot(per.iloc[:,0],per.iloc[:,c],'gv-',label = per.columns[c])\n",
    "\n",
    "ax.tick_params(axis='x', labelsize=30)\n",
    "ax.tick_params(axis='y', labelsize=30)\n",
    "#Credientials\n",
    "plt.title('Normalized: '+per.columns[a]+'//'+per.columns[b]+'//'+per.columns[c],fontsize = 35)\n",
    "plt.ylabel(\"distribution\",fontsize = 30)\n",
    "plt.xlabel('time',fontsize = 30)\n",
    "ax.legend(fontsize = 30)\n",
    "plt.show()"
   ]
  },
  {
   "cell_type": "code",
   "execution_count": null,
   "metadata": {},
   "outputs": [],
   "source": [
    "per =df3.copy()\n",
    "\n",
    "a = 1\n",
    "b = 4\n",
    "c = 5\n",
    "\n",
    "\n",
    "#data =[df1.iloc[:,y].dropna(),df2.iloc[:,y].dropna(),df3.iloc[:,y].dropna(),df4.iloc[:,y].dropna(),df5.iloc[:,y].dropna(),df6.iloc[:,y].dropna(),df7.iloc[:,y].dropna(),df8.iloc[:,y].dropna(),df9.iloc[:,y].dropna(),df10.iloc[:,y].dropna(),df11.iloc[:,y].dropna(),df12.iloc[:,y].dropna()]\n",
    "fig = plt.figure(figsize =(40, 7))\n",
    " \n",
    "# Creating axes instance\n",
    "ax = fig.add_axes([0, 0, 1, 1])\n",
    " \n",
    "# Creating plot\n",
    "br = ax.plot(per.iloc[:,0],per.iloc[:,a],'ro-',label = per.columns[a])\n",
    "ac = ax.plot(per.iloc[:,0],per.iloc[:,b],'b*-',label = per.columns[b])\n",
    "hr = ax.plot(per.iloc[:,0],per.iloc[:,c],'gv-',label = per.columns[c])\n",
    "\n",
    "ax.tick_params(axis='x', labelsize=30)\n",
    "ax.tick_params(axis='y', labelsize=30)\n",
    "#Credientials\n",
    "plt.title(per.columns[a]+'//'+per.columns[b]+'//'+per.columns[c],fontsize = 35)\n",
    "plt.ylabel(\"distribution\",fontsize = 30)\n",
    "plt.xlabel('time',fontsize = 30)\n",
    "ax.legend(fontsize = 30)\n",
    "plt.show()\n",
    "\n",
    "'''    '''\n",
    "normalized_df=(per-per.min())/(per.max()-per.min())\n",
    "a = 1\n",
    "b = 4\n",
    "c = 5\n",
    "per =normalized_df.copy()\n",
    "\n",
    "#data =[df1.iloc[:,y].dropna(),df2.iloc[:,y].dropna(),df3.iloc[:,y].dropna(),df4.iloc[:,y].dropna(),df5.iloc[:,y].dropna(),df6.iloc[:,y].dropna(),df7.iloc[:,y].dropna(),df8.iloc[:,y].dropna(),df9.iloc[:,y].dropna(),df10.iloc[:,y].dropna(),df11.iloc[:,y].dropna(),df12.iloc[:,y].dropna()]\n",
    "fig = plt.figure(figsize =(40, 7))\n",
    " \n",
    "# Creating axes instance\n",
    "ax = fig.add_axes([0, 0, 1, 1])\n",
    " \n",
    "# Creating plot\n",
    "br = ax.plot(per.iloc[:,0],per.iloc[:,a],'ro-',label = per.columns[a])\n",
    "ac = ax.plot(per.iloc[:,0],per.iloc[:,b],'b*-',label = per.columns[b])\n",
    "hr = ax.plot(per.iloc[:,0],per.iloc[:,c],'gv-',label = per.columns[c])\n",
    "\n",
    "ax.tick_params(axis='x', labelsize=30)\n",
    "ax.tick_params(axis='y', labelsize=30)\n",
    "#Credientials\n",
    "plt.title('Normalized: '+per.columns[a]+'//'+per.columns[b]+'//'+per.columns[c],fontsize = 35)\n",
    "plt.ylabel(\"distribution\",fontsize = 30)\n",
    "plt.xlabel('time',fontsize = 30)\n",
    "ax.legend(fontsize = 30)\n",
    "plt.show()"
   ]
  },
  {
   "cell_type": "code",
   "execution_count": null,
   "metadata": {},
   "outputs": [],
   "source": [
    "per =df4.copy()\n",
    "\n",
    "a = 1\n",
    "b = 4\n",
    "c = 5\n",
    "\n",
    "\n",
    "#data =[df1.iloc[:,y].dropna(),df2.iloc[:,y].dropna(),df3.iloc[:,y].dropna(),df4.iloc[:,y].dropna(),df5.iloc[:,y].dropna(),df6.iloc[:,y].dropna(),df7.iloc[:,y].dropna(),df8.iloc[:,y].dropna(),df9.iloc[:,y].dropna(),df10.iloc[:,y].dropna(),df11.iloc[:,y].dropna(),df12.iloc[:,y].dropna()]\n",
    "fig = plt.figure(figsize =(40, 7))\n",
    " \n",
    "# Creating axes instance\n",
    "ax = fig.add_axes([0, 0, 1, 1])\n",
    " \n",
    "# Creating plot\n",
    "br = ax.plot(per.iloc[:,0],per.iloc[:,a],'ro-',label = per.columns[a])\n",
    "ac = ax.plot(per.iloc[:,0],per.iloc[:,b],'b*-',label = per.columns[b])\n",
    "hr = ax.plot(per.iloc[:,0],per.iloc[:,c],'gv-',label = per.columns[c])\n",
    "\n",
    "ax.tick_params(axis='x', labelsize=30)\n",
    "ax.tick_params(axis='y', labelsize=30)\n",
    "#Credientials\n",
    "plt.title(per.columns[a]+'//'+per.columns[b]+'//'+per.columns[c],fontsize = 35)\n",
    "plt.ylabel(\"distribution\",fontsize = 30)\n",
    "plt.xlabel('time',fontsize = 30)\n",
    "ax.legend(fontsize = 30)\n",
    "plt.show()\n",
    "\n",
    "'''    '''\n",
    "normalized_df=(per-per.min())/(per.max()-per.min())\n",
    "a = 1\n",
    "b = 4\n",
    "c = 5\n",
    "per =normalized_df.copy()\n",
    "\n",
    "#data =[df1.iloc[:,y].dropna(),df2.iloc[:,y].dropna(),df3.iloc[:,y].dropna(),df4.iloc[:,y].dropna(),df5.iloc[:,y].dropna(),df6.iloc[:,y].dropna(),df7.iloc[:,y].dropna(),df8.iloc[:,y].dropna(),df9.iloc[:,y].dropna(),df10.iloc[:,y].dropna(),df11.iloc[:,y].dropna(),df12.iloc[:,y].dropna()]\n",
    "fig = plt.figure(figsize =(40, 7))\n",
    " \n",
    "# Creating axes instance\n",
    "ax = fig.add_axes([0, 0, 1, 1])\n",
    " \n",
    "# Creating plot\n",
    "br = ax.plot(per.iloc[:,0],per.iloc[:,a],'ro-',label = per.columns[a])\n",
    "ac = ax.plot(per.iloc[:,0],per.iloc[:,b],'b*-',label = per.columns[b])\n",
    "hr = ax.plot(per.iloc[:,0],per.iloc[:,c],'gv-',label = per.columns[c])\n",
    "\n",
    "ax.tick_params(axis='x', labelsize=30)\n",
    "ax.tick_params(axis='y', labelsize=30)\n",
    "#Credientials\n",
    "plt.title('Normalized: '+per.columns[a]+'//'+per.columns[b]+'//'+per.columns[c],fontsize = 35)\n",
    "plt.ylabel(\"distribution\",fontsize = 30)\n",
    "plt.xlabel('time',fontsize = 30)\n",
    "ax.legend(fontsize = 30)\n",
    "plt.show()"
   ]
  },
  {
   "cell_type": "code",
   "execution_count": null,
   "metadata": {},
   "outputs": [],
   "source": [
    "per =df5.copy()\n",
    "\n",
    "a = 1\n",
    "b = 4\n",
    "c = 5\n",
    "\n",
    "\n",
    "#data =[df1.iloc[:,y].dropna(),df2.iloc[:,y].dropna(),df3.iloc[:,y].dropna(),df4.iloc[:,y].dropna(),df5.iloc[:,y].dropna(),df6.iloc[:,y].dropna(),df7.iloc[:,y].dropna(),df8.iloc[:,y].dropna(),df9.iloc[:,y].dropna(),df10.iloc[:,y].dropna(),df11.iloc[:,y].dropna(),df12.iloc[:,y].dropna()]\n",
    "fig = plt.figure(figsize =(40, 7))\n",
    " \n",
    "# Creating axes instance\n",
    "ax = fig.add_axes([0, 0, 1, 1])\n",
    " \n",
    "# Creating plot\n",
    "br = ax.plot(per.iloc[:,0],per.iloc[:,a],'ro-',label = per.columns[a])\n",
    "ac = ax.plot(per.iloc[:,0],per.iloc[:,b],'b*-',label = per.columns[b])\n",
    "hr = ax.plot(per.iloc[:,0],per.iloc[:,c],'gv-',label = per.columns[c])\n",
    "\n",
    "ax.tick_params(axis='x', labelsize=30)\n",
    "ax.tick_params(axis='y', labelsize=30)\n",
    "#Credientials\n",
    "plt.title(per.columns[a]+'//'+per.columns[b]+'//'+per.columns[c],fontsize = 35)\n",
    "plt.ylabel(\"distribution\",fontsize = 30)\n",
    "plt.xlabel('time',fontsize = 30)\n",
    "ax.legend(fontsize = 30)\n",
    "plt.show()\n",
    "\n",
    "'''    '''\n",
    "normalized_df=(per-per.min())/(per.max()-per.min())\n",
    "a = 1\n",
    "b = 4\n",
    "c = 5\n",
    "per =normalized_df.copy()\n",
    "\n",
    "#data =[df1.iloc[:,y].dropna(),df2.iloc[:,y].dropna(),df3.iloc[:,y].dropna(),df4.iloc[:,y].dropna(),df5.iloc[:,y].dropna(),df6.iloc[:,y].dropna(),df7.iloc[:,y].dropna(),df8.iloc[:,y].dropna(),df9.iloc[:,y].dropna(),df10.iloc[:,y].dropna(),df11.iloc[:,y].dropna(),df12.iloc[:,y].dropna()]\n",
    "fig = plt.figure(figsize =(40, 7))\n",
    " \n",
    "# Creating axes instance\n",
    "ax = fig.add_axes([0, 0, 1, 1])\n",
    " \n",
    "# Creating plot\n",
    "br = ax.plot(per.iloc[:,0],per.iloc[:,a],'ro-',label = per.columns[a])\n",
    "ac = ax.plot(per.iloc[:,0],per.iloc[:,b],'b*-',label = per.columns[b])\n",
    "hr = ax.plot(per.iloc[:,0],per.iloc[:,c],'gv-',label = per.columns[c])\n",
    "\n",
    "ax.tick_params(axis='x', labelsize=30)\n",
    "ax.tick_params(axis='y', labelsize=30)\n",
    "#Credientials\n",
    "plt.title('Normalized: '+per.columns[a]+'//'+per.columns[b]+'//'+per.columns[c],fontsize = 35)\n",
    "plt.ylabel(\"distribution\",fontsize = 30)\n",
    "plt.xlabel('time',fontsize = 30)\n",
    "ax.legend(fontsize = 30)\n",
    "plt.show()"
   ]
  },
  {
   "cell_type": "code",
   "execution_count": null,
   "metadata": {},
   "outputs": [],
   "source": [
    "per =df6.copy()\n",
    "\n",
    "a = 1\n",
    "b = 4\n",
    "c = 5\n",
    "\n",
    "\n",
    "#data =[df1.iloc[:,y].dropna(),df2.iloc[:,y].dropna(),df3.iloc[:,y].dropna(),df4.iloc[:,y].dropna(),df5.iloc[:,y].dropna(),df6.iloc[:,y].dropna(),df7.iloc[:,y].dropna(),df8.iloc[:,y].dropna(),df9.iloc[:,y].dropna(),df10.iloc[:,y].dropna(),df11.iloc[:,y].dropna(),df12.iloc[:,y].dropna()]\n",
    "fig = plt.figure(figsize =(40, 7))\n",
    " \n",
    "# Creating axes instance\n",
    "ax = fig.add_axes([0, 0, 1, 1])\n",
    " \n",
    "# Creating plot\n",
    "br = ax.plot(per.iloc[:,0],per.iloc[:,a],'ro-',label = per.columns[a])\n",
    "ac = ax.plot(per.iloc[:,0],per.iloc[:,b],'b*-',label = per.columns[b])\n",
    "hr = ax.plot(per.iloc[:,0],per.iloc[:,c],'gv-',label = per.columns[c])\n",
    "\n",
    "ax.tick_params(axis='x', labelsize=30)\n",
    "ax.tick_params(axis='y', labelsize=30)\n",
    "#Credientials\n",
    "plt.title(per.columns[a]+'//'+per.columns[b]+'//'+per.columns[c],fontsize = 35)\n",
    "plt.ylabel(\"distribution\",fontsize = 30)\n",
    "plt.xlabel('time',fontsize = 30)\n",
    "ax.legend(fontsize = 30)\n",
    "plt.show()\n",
    "\n",
    "'''    '''\n",
    "normalized_df=(per-per.min())/(per.max()-per.min())\n",
    "a = 1\n",
    "b = 4\n",
    "c = 5\n",
    "per =normalized_df.copy()\n",
    "\n",
    "#data =[df1.iloc[:,y].dropna(),df2.iloc[:,y].dropna(),df3.iloc[:,y].dropna(),df4.iloc[:,y].dropna(),df5.iloc[:,y].dropna(),df6.iloc[:,y].dropna(),df7.iloc[:,y].dropna(),df8.iloc[:,y].dropna(),df9.iloc[:,y].dropna(),df10.iloc[:,y].dropna(),df11.iloc[:,y].dropna(),df12.iloc[:,y].dropna()]\n",
    "fig = plt.figure(figsize =(40, 7))\n",
    " \n",
    "# Creating axes instance\n",
    "ax = fig.add_axes([0, 0, 1, 1])\n",
    " \n",
    "# Creating plot\n",
    "br = ax.plot(per.iloc[:,0],per.iloc[:,a],'ro-',label = per.columns[a])\n",
    "ac = ax.plot(per.iloc[:,0],per.iloc[:,b],'b*-',label = per.columns[b])\n",
    "hr = ax.plot(per.iloc[:,0],per.iloc[:,c],'gv-',label = per.columns[c])\n",
    "\n",
    "ax.tick_params(axis='x', labelsize=30)\n",
    "ax.tick_params(axis='y', labelsize=30)\n",
    "#Credientials\n",
    "plt.title('Normalized: '+per.columns[a]+'//'+per.columns[b]+'//'+per.columns[c],fontsize = 35)\n",
    "plt.ylabel(\"distribution\",fontsize = 30)\n",
    "plt.xlabel('time',fontsize = 30)\n",
    "ax.legend(fontsize = 30)\n",
    "plt.show()"
   ]
  },
  {
   "cell_type": "code",
   "execution_count": 5,
   "metadata": {},
   "outputs": [
    {
     "ename": "NameError",
     "evalue": "name 'df7' is not defined",
     "output_type": "error",
     "traceback": [
      "\u001b[1;31m---------------------------------------------------------------------------\u001b[0m",
      "\u001b[1;31mNameError\u001b[0m                                 Traceback (most recent call last)",
      "\u001b[1;32m<ipython-input-5-b29a845c075c>\u001b[0m in \u001b[0;36m<module>\u001b[1;34m\u001b[0m\n\u001b[1;32m----> 1\u001b[1;33m \u001b[0mper\u001b[0m \u001b[1;33m=\u001b[0m\u001b[0mdf7\u001b[0m\u001b[1;33m.\u001b[0m\u001b[0mcopy\u001b[0m\u001b[1;33m(\u001b[0m\u001b[1;33m)\u001b[0m\u001b[1;33m\u001b[0m\u001b[1;33m\u001b[0m\u001b[0m\n\u001b[0m\u001b[0;32m      2\u001b[0m \u001b[1;33m\u001b[0m\u001b[0m\n\u001b[0;32m      3\u001b[0m \u001b[0ma\u001b[0m \u001b[1;33m=\u001b[0m \u001b[1;36m1\u001b[0m\u001b[1;33m\u001b[0m\u001b[1;33m\u001b[0m\u001b[0m\n\u001b[0;32m      4\u001b[0m \u001b[0mb\u001b[0m \u001b[1;33m=\u001b[0m \u001b[1;36m4\u001b[0m\u001b[1;33m\u001b[0m\u001b[1;33m\u001b[0m\u001b[0m\n\u001b[0;32m      5\u001b[0m \u001b[0mc\u001b[0m \u001b[1;33m=\u001b[0m \u001b[1;36m5\u001b[0m\u001b[1;33m\u001b[0m\u001b[1;33m\u001b[0m\u001b[0m\n",
      "\u001b[1;31mNameError\u001b[0m: name 'df7' is not defined"
     ]
    }
   ],
   "source": [
    "per =df7.copy()\n",
    "\n",
    "a = 1\n",
    "b = 4\n",
    "c = 5\n",
    "\n",
    "\n",
    "#data =[df1.iloc[:,y].dropna(),df2.iloc[:,y].dropna(),df3.iloc[:,y].dropna(),df4.iloc[:,y].dropna(),df5.iloc[:,y].dropna(),df6.iloc[:,y].dropna(),df7.iloc[:,y].dropna(),df8.iloc[:,y].dropna(),df9.iloc[:,y].dropna(),df10.iloc[:,y].dropna(),df11.iloc[:,y].dropna(),df12.iloc[:,y].dropna()]\n",
    "fig = plt.figure(figsize =(40, 7))\n",
    " \n",
    "# Creating axes instance\n",
    "ax = fig.add_axes([0, 0, 1, 1])\n",
    " \n",
    "# Creating plot\n",
    "br = ax.plot(per.iloc[:,0],per.iloc[:,a],'ro-',label = per.columns[a])\n",
    "ac = ax.plot(per.iloc[:,0],per.iloc[:,b],'b*-',label = per.columns[b])\n",
    "hr = ax.plot(per.iloc[:,0],per.iloc[:,c],'gv-',label = per.columns[c])\n",
    "\n",
    "ax.tick_params(axis='x', labelsize=30)\n",
    "ax.tick_params(axis='y', labelsize=30)\n",
    "#Credientials\n",
    "plt.title(per.columns[a]+'//'+per.columns[b]+'//'+per.columns[c],fontsize = 35)\n",
    "plt.ylabel(\"distribution\",fontsize = 30)\n",
    "plt.xlabel('time',fontsize = 30)\n",
    "ax.legend(fontsize = 30)\n",
    "plt.show()\n",
    "\n",
    "'''    '''\n",
    "normalized_df=(per-per.min())/(per.max()-per.min())\n",
    "a = 1\n",
    "b = 4\n",
    "c = 5\n",
    "per =normalized_df.copy()\n",
    "\n",
    "#data =[df1.iloc[:,y].dropna(),df2.iloc[:,y].dropna(),df3.iloc[:,y].dropna(),df4.iloc[:,y].dropna(),df5.iloc[:,y].dropna(),df6.iloc[:,y].dropna(),df7.iloc[:,y].dropna(),df8.iloc[:,y].dropna(),df9.iloc[:,y].dropna(),df10.iloc[:,y].dropna(),df11.iloc[:,y].dropna(),df12.iloc[:,y].dropna()]\n",
    "fig = plt.figure(figsize =(40, 7))\n",
    " \n",
    "# Creating axes instance\n",
    "ax = fig.add_axes([0, 0, 1, 1])\n",
    " \n",
    "# Creating plot\n",
    "br = ax.plot(per.iloc[:,0],per.iloc[:,a],'ro-',label = per.columns[a])\n",
    "ac = ax.plot(per.iloc[:,0],per.iloc[:,b],'b*-',label = per.columns[b])\n",
    "hr = ax.plot(per.iloc[:,0],per.iloc[:,c],'gv-',label = per.columns[c])\n",
    "\n",
    "ax.tick_params(axis='x', labelsize=30)\n",
    "ax.tick_params(axis='y', labelsize=30)\n",
    "#Credientials\n",
    "plt.title('Normalized: '+per.columns[a]+'//'+per.columns[b]+'//'+per.columns[c],fontsize = 35)\n",
    "plt.ylabel(\"distribution\",fontsize = 30)\n",
    "plt.xlabel('time',fontsize = 30)\n",
    "ax.legend(fontsize = 30)\n",
    "plt.show()"
   ]
  },
  {
   "cell_type": "code",
   "execution_count": null,
   "metadata": {},
   "outputs": [],
   "source": []
  }
 ],
 "metadata": {
  "kernelspec": {
   "display_name": "Python 3",
   "language": "python",
   "name": "python3"
  },
  "language_info": {
   "codemirror_mode": {
    "name": "ipython",
    "version": 3
   },
   "file_extension": ".py",
   "mimetype": "text/x-python",
   "name": "python",
   "nbconvert_exporter": "python",
   "pygments_lexer": "ipython3",
   "version": "3.7.4"
  }
 },
 "nbformat": 4,
 "nbformat_minor": 4
}
